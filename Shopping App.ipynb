{
 "cells": [
  {
   "cell_type": "code",
   "execution_count": 1,
   "metadata": {},
   "outputs": [
    {
     "name": "stdout",
     "output_type": "stream",
     "text": [
      "Welcome to the Demo Marketplace\n"
     ]
    }
   ],
   "source": [
    "print(\"Welcome to the Demo Marketplace\")"
   ]
  },
  {
   "cell_type": "code",
   "execution_count": null,
   "metadata": {},
   "outputs": [],
   "source": [
    "#Login\n",
    "#Display of Products : a) catalog of products\n",
    "#Product selection and quantity\n",
    "#Add to cart\n",
    "#Remove/delete item\n",
    "#Payment options : a) card,b)cash,c)upi\n",
    "#Exit from app\n"
   ]
  },
  {
   "cell_type": "code",
   "execution_count": 2,
   "metadata": {},
   "outputs": [],
   "source": [
    "# DEMO DATABASE \n",
    "user_db = {\"user1\":\"pass1\",\"user2\":\"pass2\"}\n",
    "admin_db = {\"admin1\":\"pass1\",\"admin2\":\"pass2\"}"
   ]
  },
  {
   "cell_type": "code",
   "execution_count": 2,
   "metadata": {},
   "outputs": [],
   "source": [
    "#USER LOGIN FUNCTION\n",
    "def user_login():\n",
    "    user = input('Enter your username: ')\n",
    "    password = input('Enter your password: ')\n",
    "    if user in user_db and user_db[user] == password:\n",
    "        print('Login successfull as user')\n",
    "    else:\n",
    "        print('Login failed. Try again later.')\n"
   ]
  },
  {
   "cell_type": "code",
   "execution_count": 3,
   "metadata": {},
   "outputs": [],
   "source": [
    "#ADMIN LOGIN \n",
    "def admin_login():\n",
    "    admin = input('Enter your username: ')\n",
    "    passw = input('Enter your password: ')\n",
    "    if admin in admin_db and admin_db[admin] == passw:\n",
    "        print('Login successfull as admin.')\n",
    "    else:\n",
    "        print('Login failed. Try again later')"
   ]
  },
  {
   "cell_type": "code",
   "execution_count": 5,
   "metadata": {},
   "outputs": [
    {
     "name": "stdout",
     "output_type": "stream",
     "text": [
      "Invalid option selected.\n"
     ]
    }
   ],
   "source": [
    "#ADMIN OR USER CHOICE\n",
    "login_as = input(\"Enter 'u for user and 'a' for admin.\")\n",
    "if login_as == 'a':\n",
    "    admin_login()\n",
    "elif login_as == 'u':\n",
    "    user_login()\n",
    "else:\n",
    "    print('Invalid option selected.')"
   ]
  },
  {
   "cell_type": "code",
   "execution_count": 7,
   "metadata": {},
   "outputs": [],
   "source": [
    "#DEMO CATALOGUE\n",
    "dem_catalogue = [\n",
    "{\"id\":1,\"name\":'boots','category':1,'price':2000},\n",
    "{'id':2,'name':'jackets','category':2,'price':2500},\n",
    "{'id':3,'name':'coats','category':3,'price':3000},\n",
    "{'id':4,'name':'caps','category':4,'price':1500}]"
   ]
  },
  {
   "cell_type": "code",
   "execution_count": 9,
   "metadata": {},
   "outputs": [],
   "source": [
    "#DISPLAY CATALOGUE FUNCTION\n",
    "def disp_catalogue():\n",
    "    print(\"Product ID\\tName\\tCategory\\tPrice\")\n",
    "    for product in dem_catalogue:\n",
    "           print(f\"{product['id']}\\t\\t{product['name']}\\t\\t{product['category']}\\t\\t{product['price']}\")\n"
   ]
  },
  {
   "cell_type": "code",
   "execution_count": 16,
   "metadata": {},
   "outputs": [],
   "source": [
    "#SHOPPING CART FUNCTION\n",
    "shop_cart  = []\n",
    "def add_item():\n",
    "    name_ = input(\"Enter a product name\")\n",
    "    price = float(input(\"Enter price of the product\"))\n",
    "    quantity = int(input(\"Enter quantity of the product\"))\n",
    "    shop_cart.append({\"name\":name_,\"price\":price,\"quantity\":quantity})"
   ]
  },
  {
   "cell_type": "code",
   "execution_count": 7,
   "metadata": {},
   "outputs": [],
   "source": [
    "#VIEW CART FUNCTION\n",
    "def view_cart():\n",
    "    if not shop_cart:\n",
    "        print('Your cart is empty')\n",
    "        return \n",
    "    print(\"Shopping Cart :\")\n",
    "    total = 0\n",
    "    for idx,item in enumerate(shop_cart,start=1):\n",
    "        print(f\"{idx}.{item['name']} x {item['quantity']}-${item['price']:.2f}\")\n",
    "        total += item['price']*item['quantity']\n",
    "    print(f\"TOTAL: ${total:.2f}\")"
   ]
  },
  {
   "cell_type": "code",
   "execution_count": 14,
   "metadata": {},
   "outputs": [],
   "source": [
    "#ADD TO CART FUNCTION\n",
    "def add_to_cart(session_id,product_id,quantity):\n",
    "    product = [p for p in dem_catalogue if p['id'] == product_id][0]\n",
    "    shop_cart.append({\"session_id\": session_id, \"product_id\": product_id, \"name\": product['name'], \"quantity\": quantity})\n",
    "    print(f\"{quantity} pieces of {product['name']} added to the cart.\")"
   ]
  },
  {
   "cell_type": "code",
   "execution_count": 8,
   "metadata": {},
   "outputs": [],
   "source": [
    "#REMOVE ITEM\n",
    "def remove_item():\n",
    "    view_cart()\n",
    "    if not shop_cart:\n",
    "        return\n",
    "    item_idx = int(input(\"Enter the item of number to remove : \")) - 1\n",
    "    if 0 <= item_idx < len(shop_cart):\n",
    "        del shop_cart[item_idx]\n",
    "        print(\"Item removed from cart\")\n",
    "    else:\n",
    "        print(\"Invalid item number\")\n",
    "        \n",
    "        "
   ]
  },
  {
   "cell_type": "code",
   "execution_count": 17,
   "metadata": {},
   "outputs": [
    {
     "name": "stdout",
     "output_type": "stream",
     "text": [
      "1. View Cart\n",
      "2. Add to cart\n",
      "3. Delete from cart\n",
      "4. Logout\n",
      "1 pieces of coats added to the cart.\n",
      "1. View Cart\n",
      "2. Add to cart\n",
      "3. Delete from cart\n",
      "4. Logout\n"
     ]
    }
   ],
   "source": [
    "#USER LOGIN\n",
    "session_id = input('Enter your session id: ')\n",
    "while True:\n",
    "    print('1. View Cart')\n",
    "    print('2. Add to cart')\n",
    "    print('3. Delete from cart')\n",
    "    print('4. Logout')\n",
    "    choice = int(input(\"Enter your choice: \"))\n",
    "    if choice == 1:\n",
    "        disp_catalogue()\n",
    "    elif choice == 2:\n",
    "        product_id = int(input(\"Enter your product ID: \"))\n",
    "        quantity = int(input('Enter the quantity of product: '))\n",
    "        add_to_cart(session_id,product_id,quantity)\n",
    "    elif choice == 3:\n",
    "        product_id = int(input(\"Enter your product ID: \"))\n",
    "        remove_item(session_id,product_id)\n",
    "    elif choice == 4:\n",
    "        break\n",
    "    else:\n",
    "        print('Invalid choice.')"
   ]
  },
  {
   "cell_type": "code",
   "execution_count": 18,
   "metadata": {},
   "outputs": [],
   "source": [
    "#CHECKOUT FUNCTION\n",
    "def checkout():\n",
    "    pay_method = input('Please select the payment method. (Net Banking/PayPal/UPI): ')\n",
    "    if pay_method == 'Net Banking':\n",
    "        print('Your order is successfully placed, and the payment has been made using Net Banking')\n",
    "        print('Thankyou for shopping with us. Have a great day!')\n",
    "    elif pay_method == 'PayPal':\n",
    "        print('Your order is successfully placed, and the payment has been made using PayPal')\n",
    "        print('Thankyou for shopping with us. Have a great day!')\n",
    "    elif pay_method == 'UPI':\n",
    "        print('Your order is successfully placed, and the payment has been made using UPI')\n",
    "        print('Thankyou for shopping with us. Have a great day!')\n",
    "    else:\n",
    "        print('Invalid payment mode selected. Please chose a valid payment option.')\n",
    "        "
   ]
  },
  {
   "cell_type": "code",
   "execution_count": null,
   "metadata": {},
   "outputs": [],
   "source": []
  },
  {
   "cell_type": "code",
   "execution_count": null,
   "metadata": {},
   "outputs": [],
   "source": []
  }
 ],
 "metadata": {
  "kernelspec": {
   "display_name": "Python 3",
   "language": "python",
   "name": "python3"
  },
  "language_info": {
   "codemirror_mode": {
    "name": "ipython",
    "version": 3
   },
   "file_extension": ".py",
   "mimetype": "text/x-python",
   "name": "python",
   "nbconvert_exporter": "python",
   "pygments_lexer": "ipython3",
   "version": "3.11.9"
  }
 },
 "nbformat": 4,
 "nbformat_minor": 2
}
